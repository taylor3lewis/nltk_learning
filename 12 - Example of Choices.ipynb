{
 "cells": [
  {
   "cell_type": "markdown",
   "metadata": {},
   "source": [
    "bryant-stories.txt"
   ]
  },
  {
   "cell_type": "code",
   "execution_count": 2,
   "metadata": {
    "collapsed": true
   },
   "outputs": [],
   "source": [
    "import nltk"
   ]
  },
  {
   "cell_type": "code",
   "execution_count": 3,
   "metadata": {
    "collapsed": true
   },
   "outputs": [],
   "source": [
    "text = nltk.corpus.gutenberg.words(\"bryant-stories.txt\")"
   ]
  },
  {
   "cell_type": "code",
   "execution_count": 4,
   "metadata": {
    "collapsed": true
   },
   "outputs": [],
   "source": [
    "tags = nltk.pos_tag(text, tagset=\"universal\")"
   ]
  },
  {
   "cell_type": "code",
   "execution_count": 5,
   "metadata": {},
   "outputs": [
    {
     "data": {
      "text/plain": [
       "[(u'[', u'NOUN'),\n",
       " (u'Stories', u'NOUN'),\n",
       " (u'to', u'PRT'),\n",
       " (u'Tell', u'VERB'),\n",
       " (u'to', u'PRT'),\n",
       " (u'Children', u'NOUN'),\n",
       " (u'by', u'ADP'),\n",
       " (u'Sara', u'NOUN'),\n",
       " (u'Cone', u'NOUN'),\n",
       " (u'Bryant', u'NOUN')]"
      ]
     },
     "execution_count": 5,
     "metadata": {},
     "output_type": "execute_result"
    }
   ],
   "source": [
    "tags[:10]"
   ]
  },
  {
   "cell_type": "code",
   "execution_count": 7,
   "metadata": {},
   "outputs": [
    {
     "name": "stdout",
     "output_type": "stream",
     "text": [
      "ship or part\n",
      "food or water\n",
      "queens or princesses\n",
      "rank or wealth\n"
     ]
    }
   ],
   "source": [
    "for ((w1,t1), (w2,t2), (w3,t3)) in nltk.trigrams(tags):\n",
    "    if t1 == \"NOUN\" and w2 == \"or\" and t3 == \"NOUN\":\n",
    "        print w1 + \" \" + w2 + \" \" + w3"
   ]
  },
  {
   "cell_type": "code",
   "execution_count": null,
   "metadata": {
    "collapsed": true
   },
   "outputs": [],
   "source": []
  }
 ],
 "metadata": {
  "kernelspec": {
   "display_name": "Python 2",
   "language": "python",
   "name": "python2"
  },
  "language_info": {
   "codemirror_mode": {
    "name": "ipython",
    "version": 2
   },
   "file_extension": ".py",
   "mimetype": "text/x-python",
   "name": "python",
   "nbconvert_exporter": "python",
   "pygments_lexer": "ipython2",
   "version": "2.7.13"
  }
 },
 "nbformat": 4,
 "nbformat_minor": 2
}
