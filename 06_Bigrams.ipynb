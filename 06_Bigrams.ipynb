{
 "cells": [
  {
   "cell_type": "code",
   "execution_count": 1,
   "metadata": {
    "collapsed": true
   },
   "outputs": [],
   "source": [
    "import nltk"
   ]
  },
  {
   "cell_type": "code",
   "execution_count": 2,
   "metadata": {
    "collapsed": true
   },
   "outputs": [],
   "source": [
    "text = \"I think it might rain today.\""
   ]
  },
  {
   "cell_type": "code",
   "execution_count": 3,
   "metadata": {
    "collapsed": true
   },
   "outputs": [],
   "source": [
    "tokens = nltk.word_tokenize(text)"
   ]
  },
  {
   "cell_type": "code",
   "execution_count": 4,
   "metadata": {},
   "outputs": [
    {
     "data": {
      "text/plain": [
       "['I', 'think', 'it', 'might', 'rain', 'today', '.']"
      ]
     },
     "execution_count": 4,
     "metadata": {},
     "output_type": "execute_result"
    }
   ],
   "source": [
    "tokens"
   ]
  },
  {
   "cell_type": "code",
   "execution_count": 5,
   "metadata": {
    "collapsed": true
   },
   "outputs": [],
   "source": [
    "bigrams = nltk.bigrams(tokens)"
   ]
  },
  {
   "cell_type": "code",
   "execution_count": 8,
   "metadata": {},
   "outputs": [
    {
     "name": "stdout",
     "output_type": "stream",
     "text": [
      "('I', 'think')\n",
      "('think', 'it')\n",
      "('it', 'might')\n",
      "('might', 'rain')\n",
      "('rain', 'today')\n",
      "('today', '.')\n"
     ]
    }
   ],
   "source": [
    "for item in bigrams:\n",
    "    print item"
   ]
  },
  {
   "cell_type": "code",
   "execution_count": 9,
   "metadata": {
    "collapsed": true
   },
   "outputs": [],
   "source": [
    "trigrams = nltk.trigrams(tokens)"
   ]
  },
  {
   "cell_type": "code",
   "execution_count": 11,
   "metadata": {},
   "outputs": [
    {
     "name": "stdout",
     "output_type": "stream",
     "text": [
      "('I', 'think', 'it')\n",
      "('think', 'it', 'might')\n",
      "('it', 'might', 'rain')\n",
      "('might', 'rain', 'today')\n",
      "('rain', 'today', '.')\n"
     ]
    }
   ],
   "source": [
    "for item in trigrams:\n",
    "    print item"
   ]
  },
  {
   "cell_type": "code",
   "execution_count": 12,
   "metadata": {
    "collapsed": true
   },
   "outputs": [],
   "source": [
    "from nltk.util import ngrams"
   ]
  },
  {
   "cell_type": "code",
   "execution_count": 13,
   "metadata": {
    "collapsed": true
   },
   "outputs": [],
   "source": [
    "text2 = \"If it is nice out, I will go to the beach.\""
   ]
  },
  {
   "cell_type": "code",
   "execution_count": 14,
   "metadata": {
    "collapsed": true
   },
   "outputs": [],
   "source": [
    "tokens = nltk.word_tokenize(text2)"
   ]
  },
  {
   "cell_type": "code",
   "execution_count": 15,
   "metadata": {
    "collapsed": true
   },
   "outputs": [],
   "source": [
    "bigrams = ngrams(tokens, 2)"
   ]
  },
  {
   "cell_type": "code",
   "execution_count": 17,
   "metadata": {},
   "outputs": [
    {
     "name": "stdout",
     "output_type": "stream",
     "text": [
      "('If', 'it')\n",
      "('it', 'is')\n",
      "('is', 'nice')\n",
      "('nice', 'out')\n",
      "('out', ',')\n",
      "(',', 'I')\n",
      "('I', 'will')\n",
      "('will', 'go')\n",
      "('go', 'to')\n",
      "('to', 'the')\n",
      "('the', 'beach')\n",
      "('beach', '.')\n"
     ]
    }
   ],
   "source": [
    "for item in bigrams:\n",
    "    print item"
   ]
  },
  {
   "cell_type": "code",
   "execution_count": 18,
   "metadata": {
    "collapsed": true
   },
   "outputs": [],
   "source": [
    "fourgrams = ngrams(tokens, 4)"
   ]
  },
  {
   "cell_type": "code",
   "execution_count": 19,
   "metadata": {},
   "outputs": [
    {
     "name": "stdout",
     "output_type": "stream",
     "text": [
      "('If', 'it', 'is', 'nice')\n",
      "('it', 'is', 'nice', 'out')\n",
      "('is', 'nice', 'out', ',')\n",
      "('nice', 'out', ',', 'I')\n",
      "('out', ',', 'I', 'will')\n",
      "(',', 'I', 'will', 'go')\n",
      "('I', 'will', 'go', 'to')\n",
      "('will', 'go', 'to', 'the')\n",
      "('go', 'to', 'the', 'beach')\n",
      "('to', 'the', 'beach', '.')\n"
     ]
    }
   ],
   "source": [
    "for item in fourgrams:\n",
    "    print item"
   ]
  },
  {
   "cell_type": "code",
   "execution_count": 20,
   "metadata": {
    "collapsed": true
   },
   "outputs": [],
   "source": [
    "def n_grams(text, n):\n",
    "    tokens = nltk.word_tokenize(text)\n",
    "    grams = ngrams(tokens, n)\n",
    "    return grams"
   ]
  },
  {
   "cell_type": "code",
   "execution_count": 21,
   "metadata": {
    "collapsed": true
   },
   "outputs": [],
   "source": [
    "text3 = text + \" \" + text2"
   ]
  },
  {
   "cell_type": "code",
   "execution_count": 22,
   "metadata": {
    "collapsed": true
   },
   "outputs": [],
   "source": [
    "grams = n_grams(text3, 5)"
   ]
  },
  {
   "cell_type": "code",
   "execution_count": 24,
   "metadata": {},
   "outputs": [
    {
     "name": "stdout",
     "output_type": "stream",
     "text": [
      "('I', 'think', 'it', 'might', 'rain')\n",
      "('think', 'it', 'might', 'rain', 'today')\n",
      "('it', 'might', 'rain', 'today', '.')\n",
      "('might', 'rain', 'today', '.', 'If')\n",
      "('rain', 'today', '.', 'If', 'it')\n",
      "('today', '.', 'If', 'it', 'is')\n",
      "('.', 'If', 'it', 'is', 'nice')\n",
      "('If', 'it', 'is', 'nice', 'out')\n",
      "('it', 'is', 'nice', 'out', ',')\n",
      "('is', 'nice', 'out', ',', 'I')\n",
      "('nice', 'out', ',', 'I', 'will')\n",
      "('out', ',', 'I', 'will', 'go')\n",
      "(',', 'I', 'will', 'go', 'to')\n",
      "('I', 'will', 'go', 'to', 'the')\n",
      "('will', 'go', 'to', 'the', 'beach')\n",
      "('go', 'to', 'the', 'beach', '.')\n"
     ]
    }
   ],
   "source": [
    "for g in grams:\n",
    "    print g"
   ]
  },
  {
   "cell_type": "code",
   "execution_count": null,
   "metadata": {
    "collapsed": true
   },
   "outputs": [],
   "source": []
  }
 ],
 "metadata": {
  "kernelspec": {
   "display_name": "Python 2",
   "language": "python",
   "name": "python2"
  },
  "language_info": {
   "codemirror_mode": {
    "name": "ipython",
    "version": 2
   },
   "file_extension": ".py",
   "mimetype": "text/x-python",
   "name": "python",
   "nbconvert_exporter": "python",
   "pygments_lexer": "ipython2",
   "version": "2.7.13"
  }
 },
 "nbformat": 4,
 "nbformat_minor": 2
}
