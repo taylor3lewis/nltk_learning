{
 "cells": [
  {
   "cell_type": "code",
   "execution_count": 2,
   "metadata": {
    "collapsed": true
   },
   "outputs": [],
   "source": [
    "import nltk\n",
    "from urllib import urlopen"
   ]
  },
  {
   "cell_type": "code",
   "execution_count": 3,
   "metadata": {
    "collapsed": true
   },
   "outputs": [],
   "source": [
    "url = \"https://en.wikipedia.org/wiki/Python_\\(programming_language\\)\""
   ]
  },
  {
   "cell_type": "code",
   "execution_count": 4,
   "metadata": {
    "collapsed": true
   },
   "outputs": [],
   "source": [
    "html = urlopen(url).read()"
   ]
  },
  {
   "cell_type": "code",
   "execution_count": 5,
   "metadata": {},
   "outputs": [
    {
     "data": {
      "text/plain": [
       "'<!DOCTYPE html PUBLIC \"-//W3C//DTD XHTML 1.0 Transitional//EN\" \"http://www.w3.org/TR/xhtml1/DTD/xhtml1-transitional.dtd\">\\n<html>\\n<!-- FileName: index.html\\n     Language: [en]\\n-->\\n<!--Head-->\\n<head>\\n  <meta content=\"text/html; charset=UTF-8\" http-equiv=\"Content-Type\">\\n  <meta http-equiv=\"X-UA-Compatible\" content=\"IE=7\" />\\n  <title>McAfee Web Gateway - Notification</title>\\n  <script src=\"/mwg-internal/de5fs23hu73ds/files/javascript/sw.js\" type=\"text/javascript\" ></script>\\n  <link rel=\"stylesheet\" href=\"/mwg-internal/de5fs23hu73ds/files/DefaultSchemaSerasa/stylesheet.css\" />\\n</head>\\n<!--/Head-->\\n\\n\\n<!--Body-->\\n<body onload=\"swOnLoad();\">\\n  <table class=\\'bodyTable\\'>\\n    <tr>\\n      <td class=\\'bodyData\\' background=\"\">\\n<!--Logo-->\\n<table class=\\'logoTable\\'>\\n  <tr>\\n    <td class=\\'logoData\\' bgcolor=#632678>\\n        <a href=\\'https://www.serasaexperian.com.br\\'>\\n        <img src=\"/mwg-internal/de5fs23hu73ds/files/DefaultSchemaSerasa/img/serasa_white_2.png\"></a>\\n    </td>\\n  </tr>\\n</table>\\n<!--/Logo-->\\n<!--Contents-->\\n<!-- FileName: handshakefailed.html\\n     Language: [en]\\n-->\\n<!--Title-->\\n<table class=\\'titleTable\\'>\\n  <tr>\\n    <td class=\\'titleData\\'>\\n      Handshake failed\\n    </td>\\n  </tr>\\n</table>\\n<!--/Title-->\\n\\n<!--Content-->\\n<table class=\"contentTable\">\\n  <tr>\\n    <td class=\"contentData\">\\n      The SSL handshake could not be performed.\\n    </td>\\n  </tr>\\n</table>\\n<!--/Content-->\\n\\n<!--Info-->\\n<table class=\"infoTable\">\\n  <tr>\\n    <td class=\"infoData\">\\n      <b>Host: </b>en.wikipedia.org<br />\\n      <b>Reason: </b>Can&apos;t initialize server context:EnduserException:server state 1:state 8:Application response 500 handshakefailed\\n    </td>\\n  </tr>\\n</table>\\n<!--/Info-->\\n\\n<!--/Contents-->\\n<!--Policy-->\\n<table class=\\'policyTable\\'>\\n  <tr>\\n    <td class=\\'policyHeading\\'>\\n  <tr>\\n    <td style=\"text-align:center;\" class=\\'policyData\\'>\\n<hr>\\n     <p>Em caso de d\\xc3\\xbavidas ou problemas de acesso \\xc3\\xa0 Internet, entre em contato com o <b>CSTI</b> atrav\\xc3\\xa9s do ramal <b>9911</b> ou via <a href=\"http://spobrsdm01/CAisd/pdmweb2.exe\"><b>Servi\\xc3\\xa7o de TI</b></a> utilizando a categoria <b>\"02 - Servi\\xc3\\xa7o de TI.Seguran\\xc3\\xa7a de TI.Libera\\xc3\\xa7\\xc3\\xa3o.Acesso.Sites internet\"</b>. Insira tamb\\xc3\\xa9m uma imagem desta tela (printscreen).</p>\\n    <p> Informa\\xc3\\xa7\\xc3\\xb5es sobre as Pol\\xc3\\xadticas de Seguran\\xc3\\xa7a da Informa\\xc3\\xa7\\xc3\\xa3o podem ser encontradas em<a href=\"http://zoomglobal/departments/GlobalSecurityOffice/SitePages/Translated%20GSP%20Documents.aspx\"> Experian Global Security Policies.</a></p>\\n    </td>\\n  </tr>\\n</table>\\n<!--/Policy-->\\n<!--Foot-->\\n<table class=\\'footTable\\'>\\n  <tr>\\n    <td class=\\'helpDeskData\\' background=\"\">\\n   <hr>\\n    </td>\\n  </tr>\\n  <tr>\\n    <td class=\\'footData\\'>\\n     <p style=\"text-align:center;font-size:12px;\"><b> Cybersecurity Team - Experian Global Security Officer</b></p>\\n  <p style=\"text-align:center;font-size:12px;\"> Security First In All We Do</p>\\n</td>\\n</tr>\\n<tr>\\n<table class=\\'footTable\\'>\\n<tr>\\n   <td style=\"text-align:left;font-size:12px;\" class=\\'footData\\'\\'>\\n   <p>Em caso de incidentes de seguran\\xc3\\xa7a, envie um email para <a href=\"mailto:cirt@br.experian.com\"><b>cirt@br.experian.com</b></a></p>\\n    </td>\\n<td style=\"text-align:center;font-size:12px;\" class=\\'footData\\'\\'>\\n<p>Experian Internal</p>\\n</td>\\n<td class=\\'footData\\'\\'>\\n        URL: <script type=\"text/javascript\">break_line(\"https://en.wikipedia.org/wiki/Python_\\\\(programming_language\\\\)\");</script><br />\\n        <script type=\"text/javascript\">\\n          writeToDocument(\"Categoria(s):\" + \"Education/Reference, Blogs/Wiki\" );\\n      </script><br />\\n     Regra: Categorias para Grupo Default<br />\\n     Reputa\\xc3\\xa7\\xc3\\xa3o:Minimal Risk<br />\\n     Data: <span id=\"time\">2017-12-26 14:10:58</span><br />\\n     IP Address: 10.97.15.164<br />\\n     Usu\\xc3\\xa1rio: ccf9541<br />\\n     Proxy: 10.96.214.15<br />\\n    </td>\\n</tr>\\n</table>\\n  </tr>\\n</table>\\n<!--/Foot-->\\n      </td>\\n    </tr>\\n <!-- </table>\\n</body>\\n<!--/Body-->\\n</html>\\n'"
      ]
     },
     "execution_count": 5,
     "metadata": {},
     "output_type": "execute_result"
    }
   ],
   "source": [
    "html"
   ]
  },
  {
   "cell_type": "code",
   "execution_count": 6,
   "metadata": {
    "collapsed": true
   },
   "outputs": [],
   "source": [
    "from bs4 import BeautifulSoup"
   ]
  },
  {
   "cell_type": "code",
   "execution_count": 7,
   "metadata": {
    "collapsed": true
   },
   "outputs": [],
   "source": [
    "web_str = BeautifulSoup(html, \"lxml\").get_text()"
   ]
  },
  {
   "cell_type": "code",
   "execution_count": 8,
   "metadata": {},
   "outputs": [
    {
     "data": {
      "text/plain": [
       "u'\\n\\n\\n\\n\\n\\nMcAfee Web Gateway - Notification\\n\\n\\n\\n\\n\\n\\n\\n\\n\\n\\n\\n\\n\\n\\n\\n\\n\\n\\n\\n\\n\\n\\n\\n\\n\\n      Handshake failed\\n    \\n\\n\\n\\n\\n\\n\\n\\n      The SSL handshake could not be performed.\\n    \\n\\n\\n\\n\\n\\n\\n\\nHost: en.wikipedia.org\\nReason: Can\\'t initialize server context:EnduserException:server state 1:state 8:Application response 500 handshakefailed\\n    \\n\\n\\n\\n\\n\\n\\n\\n\\n\\n\\n\\nEm caso de d\\xfavidas ou problemas de acesso \\xe0 Internet, entre em contato com o CSTI atrav\\xe9s do ramal 9911 ou via Servi\\xe7o de TI utilizando a categoria \"02 - Servi\\xe7o de TI.Seguran\\xe7a de TI.Libera\\xe7\\xe3o.Acesso.Sites internet\". Insira tamb\\xe9m uma imagem desta tela (printscreen).\\n Informa\\xe7\\xf5es sobre as Pol\\xedticas de Seguran\\xe7a da Informa\\xe7\\xe3o podem ser encontradas em Experian Global Security Policies.\\n\\n\\n\\n\\n\\n\\n\\n\\n\\n\\n\\n\\n\\n Cybersecurity Team - Experian Global Security Officer\\n Security First In All We Do\\n\\n\\n\\n\\n\\n\\nEm caso de incidentes de seguran\\xe7a, envie um email para cirt@br.experian.com\\n\\n\\nExperian Internal\\n\\n\\n        URL: break_line(\"https://en.wikipedia.org/wiki/Python_\\\\(programming_language\\\\)\");\\n\\n          writeToDocument(\"Categoria(s):\" + \"Education/Reference, Blogs/Wiki\" );\\n      \\n     Regra: Categorias para Grupo Default\\n     Reputa\\xe7\\xe3o:Minimal Risk\\n     Data: 2017-12-26 14:10:58\\n     IP Address: 10.97.15.164\\n     Usu\\xe1rio: ccf9541\\n     Proxy: 10.96.214.15\\n\\n\\n\\n\\n\\n\\n\\n\\n\\n\\n'"
      ]
     },
     "execution_count": 8,
     "metadata": {},
     "output_type": "execute_result"
    }
   ],
   "source": [
    "web_str"
   ]
  },
  {
   "cell_type": "code",
   "execution_count": 9,
   "metadata": {
    "collapsed": true
   },
   "outputs": [],
   "source": [
    "start = web_str.find(\"Python is a widely used general-purpose, high-level programming language.\")"
   ]
  },
  {
   "cell_type": "code",
   "execution_count": 10,
   "metadata": {
    "collapsed": true
   },
   "outputs": [],
   "source": [
    "start2 = web_str.find(\"McAfee Web Gateway\")"
   ]
  },
  {
   "cell_type": "code",
   "execution_count": 11,
   "metadata": {
    "collapsed": true
   },
   "outputs": [],
   "source": [
    "end = web_str.find(\"Proxy: 10.96.214.15\")"
   ]
  },
  {
   "cell_type": "code",
   "execution_count": 12,
   "metadata": {},
   "outputs": [
    {
     "data": {
      "text/plain": [
       "6"
      ]
     },
     "execution_count": 12,
     "metadata": {},
     "output_type": "execute_result"
    }
   ],
   "source": [
    "start2"
   ]
  },
  {
   "cell_type": "code",
   "execution_count": 13,
   "metadata": {},
   "outputs": [
    {
     "data": {
      "text/plain": [
       "1247"
      ]
     },
     "execution_count": 13,
     "metadata": {},
     "output_type": "execute_result"
    }
   ],
   "source": [
    "end"
   ]
  },
  {
   "cell_type": "code",
   "execution_count": 14,
   "metadata": {
    "collapsed": true
   },
   "outputs": [],
   "source": [
    "last_sent_len = len(\"Proxy: 10.96.214.15\")"
   ]
  },
  {
   "cell_type": "code",
   "execution_count": 15,
   "metadata": {},
   "outputs": [
    {
     "data": {
      "text/plain": [
       "u'McAfee Web Gateway - Notification\\n\\n\\n\\n\\n\\n\\n\\n\\n\\n\\n\\n\\n\\n\\n\\n\\n\\n\\n\\n\\n\\n\\n\\n\\n\\n      Handshake failed\\n    \\n\\n\\n\\n\\n\\n\\n\\n      The SSL handshake could not be performed.\\n    \\n\\n\\n\\n\\n\\n\\n\\nHost: en.wikipedia.org\\nReason: Can\\'t initialize server context:EnduserException:server state 1:state 8:Application response 500 handshakefailed\\n    \\n\\n\\n\\n\\n\\n\\n\\n\\n\\n\\n\\nEm caso de d\\xfavidas ou problemas de acesso \\xe0 Internet, entre em contato com o CSTI atrav\\xe9s do ramal 9911 ou via Servi\\xe7o de TI utilizando a categoria \"02 - Servi\\xe7o de TI.Seguran\\xe7a de TI.Libera\\xe7\\xe3o.Acesso.Sites internet\". Insira tamb\\xe9m uma imagem desta tela (printscreen).\\n Informa\\xe7\\xf5es sobre as Pol\\xedticas de Seguran\\xe7a da Informa\\xe7\\xe3o podem ser encontradas em Experian Global Security Policies.\\n\\n\\n\\n\\n\\n\\n\\n\\n\\n\\n\\n\\n\\n Cybersecurity Team - Experian Global Security Officer\\n Security First In All We Do\\n\\n\\n\\n\\n\\n\\nEm caso de incidentes de seguran\\xe7a, envie um email para cirt@br.experian.com\\n\\n\\nExperian Internal\\n\\n\\n        URL: break_line(\"https://en.wikipedia.org/wiki/Python_\\\\(programming_language\\\\)\");\\n\\n          writeToDocument(\"Categoria(s):\" + \"Education/Reference, Blogs/Wiki\" );\\n      \\n     Regra: Categorias para Grupo Default\\n     Reputa\\xe7\\xe3o:Minimal Risk\\n     Data: 2017-12-26 14:10:58\\n     IP Address: 10.97.15.164\\n     Usu\\xe1rio: ccf9541\\n     Proxy: 10.96.214.15'"
      ]
     },
     "execution_count": 15,
     "metadata": {},
     "output_type": "execute_result"
    }
   ],
   "source": [
    "web_str[start2:end+last_sent_len]"
   ]
  },
  {
   "cell_type": "code",
   "execution_count": 16,
   "metadata": {
    "collapsed": true
   },
   "outputs": [],
   "source": [
    "intro_tokens = nltk.word_tokenize(web_str[start2:end+last_sent_len])"
   ]
  },
  {
   "cell_type": "code",
   "execution_count": 18,
   "metadata": {},
   "outputs": [
    {
     "name": "stdout",
     "output_type": "stream",
     "text": [
      "[u'McAfee', u'Web', u'Gateway', u'-', u'Notification', u'Handshake', u'failed', u'The', u'SSL', u'handshake', u'could', u'not', u'be', u'performed', u'.', u'Host', u':', u'en.wikipedia.org', u'Reason', u':', u'Ca', u\"n't\", u'initialize', u'server', u'context', u':', u'EnduserException', u':', u'server', u'state', u'1', u':', u'state', u'8', u':', u'Application', u'response', u'500', u'handshakefailed', u'Em', u'caso', u'de', u'd\\xfavidas', u'ou', u'problemas', u'de', u'acesso', u'\\xe0', u'Internet', u',', u'entre', u'em', u'contato', u'com', u'o', u'CSTI', u'atrav\\xe9s', u'do', u'ramal', u'9911', u'ou', u'via', u'Servi\\xe7o', u'de', u'TI', u'utilizando', u'a', u'categoria', u'``', u'02', u'-', u'Servi\\xe7o', u'de', u'TI.Seguran\\xe7a', u'de', u'TI.Libera\\xe7\\xe3o.Acesso.Sites', u'internet', u\"''\", u'.', u'Insira', u'tamb\\xe9m', u'uma', u'imagem', u'desta', u'tela', u'(', u'printscreen', u')', u'.', u'Informa\\xe7\\xf5es', u'sobre', u'as', u'Pol\\xedticas', u'de', u'Seguran\\xe7a', u'da', u'Informa\\xe7\\xe3o', u'podem', u'ser', u'encontradas', u'em', u'Experian', u'Global', u'Security', u'Policies', u'.', u'Cybersecurity', u'Team', u'-', u'Experian', u'Global', u'Security', u'Officer', u'Security', u'First', u'In', u'All', u'We', u'Do', u'Em', u'caso', u'de', u'incidentes', u'de', u'seguran\\xe7a', u',', u'envie', u'um', u'email', u'para', u'cirt', u'@', u'br.experian.com', u'Experian', u'Internal', u'URL', u':', u'break_line', u'(', u'``', u'https', u':', u'//en.wikipedia.org/wiki/Python_\\\\', u'(', u'programming_language\\\\', u')', u\"''\", u')', u';', u'writeToDocument', u'(', u'``', u'Categoria', u'(', u's', u')', u':', u\"''\", u'+', u'``', u'Education/Reference', u',', u'Blogs/Wiki', u\"''\", u')', u';', u'Regra', u':', u'Categorias', u'para', u'Grupo', u'Default', u'Reputa\\xe7\\xe3o', u':', u'Minimal', u'Risk', u'Data', u':', u'2017-12-26', u'14:10:58', u'IP', u'Address', u':', u'10.97.15.164', u'Usu\\xe1rio', u':', u'ccf9541', u'Proxy', u':', u'10.96.214.15']\n"
     ]
    }
   ],
   "source": [
    "print intro_tokens"
   ]
  },
  {
   "cell_type": "code",
   "execution_count": null,
   "metadata": {
    "collapsed": true
   },
   "outputs": [],
   "source": []
  },
  {
   "cell_type": "code",
   "execution_count": null,
   "metadata": {
    "collapsed": true
   },
   "outputs": [],
   "source": []
  }
 ],
 "metadata": {
  "kernelspec": {
   "display_name": "Python 2",
   "language": "python",
   "name": "python2"
  },
  "language_info": {
   "codemirror_mode": {
    "name": "ipython",
    "version": 2
   },
   "file_extension": ".py",
   "mimetype": "text/x-python",
   "name": "python",
   "nbconvert_exporter": "python",
   "pygments_lexer": "ipython2",
   "version": "2.7.13"
  }
 },
 "nbformat": 4,
 "nbformat_minor": 2
}
