{
 "cells": [
  {
   "cell_type": "code",
   "execution_count": 1,
   "metadata": {
    "collapsed": true
   },
   "outputs": [],
   "source": [
    "import nltk\n",
    "import math"
   ]
  },
  {
   "cell_type": "code",
   "execution_count": 8,
   "metadata": {
    "collapsed": true
   },
   "outputs": [],
   "source": [
    "dataset = {\n",
    "    \"tfidf_1.txt\":open(\"tfidf-1.txt\").read(),\n",
    "    \"tfidf_2.txt\":open(\"tfidf-2.txt\").read(),\n",
    "    \"tfidf_3.txt\":open(\"tfidf-3.txt\").read(),\n",
    "    \"tfidf_4.txt\":open(\"tfidf-4.txt\").read(),\n",
    "    \"tfidf_5.txt\":open(\"tfidf-5.txt\").read(),\n",
    "    \"tfidf_6.txt\":open(\"tfidf-6.txt\").read(),\n",
    "    \"tfidf_7.txt\":open(\"tfidf-7.txt\").read(),\n",
    "    \"tfidf_8.txt\":open(\"tfidf-8.txt\").read(),\n",
    "    \"tfidf_9.txt\":open(\"tfidf-9.txt\").read(),\n",
    "    \"tfidf_10.txt\":open(\"tfidf-10.txt\").read()\n",
    "}"
   ]
  },
  {
   "cell_type": "code",
   "execution_count": 10,
   "metadata": {
    "collapsed": true
   },
   "outputs": [],
   "source": [
    "# Calculate term frequencies\n",
    "def tf(dataset, file_name):\n",
    "    text = dataset[file_name]\n",
    "    tokens = nltk.word_tokenize(text)\n",
    "    fd = nltk.FreqDist(tokens)\n",
    "    return fd\n",
    "\n",
    "# Calculate inverse document frequency\n",
    "def idf(dataset, term):\n",
    "    count = [term in dataset[file_name] for file_name in dataset]\n",
    "    inv_df = math.log(len(count)/sum(count))\n",
    "    return inv_df\n",
    "\n",
    "def tfidf(dataset, file_name, n):\n",
    "    term_scores = {}\n",
    "    file_fd = tf(dataset,file_name)\n",
    "    for term in file_fd:\n",
    "        if term.isalpha():\n",
    "            idf_val = idf(dataset,term)\n",
    "            tf_val = tf(dataset, file_name)[term]\n",
    "            tfidf = tf_val*idf_val\n",
    "            term_scores[term] = round(tfidf,2)\n",
    "    return sorted(term_scores.items(), key=lambda x:-x[1])[:n]\n"
   ]
  },
  {
   "cell_type": "code",
   "execution_count": 11,
   "metadata": {},
   "outputs": [
    {
     "data": {
      "text/plain": [
       "[('Soviet', 20.72),\n",
       " ('Union', 18.42),\n",
       " ('Axis', 16.12),\n",
       " ('Japan', 11.27),\n",
       " ('Germany', 11.27)]"
      ]
     },
     "execution_count": 11,
     "metadata": {},
     "output_type": "execute_result"
    }
   ],
   "source": [
    "tfidf(dataset,\"tfidf_1.txt\",5)"
   ]
  },
  {
   "cell_type": "code",
   "execution_count": 13,
   "metadata": {},
   "outputs": [
    {
     "data": {
      "text/plain": [
       "0.0"
      ]
     },
     "execution_count": 13,
     "metadata": {},
     "output_type": "execute_result"
    }
   ],
   "source": [
    "idf(dataset, \"world\")"
   ]
  },
  {
   "cell_type": "code",
   "execution_count": 12,
   "metadata": {},
   "outputs": [
    {
     "name": "stdout",
     "output_type": "stream",
     "text": [
      "tfidf_8.txt: \n",
      " [('Titanic', 18.42), ('passengers', 11.51), ('maritime', 9.21), ('safety', 9.21), ('aboard', 9.21)] \n",
      "\n",
      "tfidf_9.txt: \n",
      " [('Rockefeller', 23.03), ('Standard', 6.91), ('business', 6.91), ('Oil', 6.91), ('University', 4.83)] \n",
      "\n",
      "tfidf_4.txt: \n",
      " [('Washington', 25.33), ('President', 6.44), ('preservation', 4.61), ('federal', 4.61), ('militia', 4.61)] \n",
      "\n",
      "tfidf_6.txt: \n",
      " [('Revolution', 19.78), ('French', 14.28), ('privileges', 6.91), ('central', 6.91), ('Napoleon', 6.44)] \n",
      "\n",
      "tfidf_5.txt: \n",
      " [('Newton', 23.03), ('scientists', 6.91), ('motion', 4.83), ('developed', 4.61), ('Trinity', 4.61)] \n",
      "\n",
      "tfidf_10.txt: \n",
      " [('Tesla', 13.82), ('wireless', 6.44), ('electrical', 6.44), ('experiments', 4.61), ('range', 4.61)] \n",
      "\n",
      "tfidf_7.txt: \n",
      " [('Leonardo', 18.42), ('Vinci', 9.21), ('painting', 6.91), ('Renaissance', 4.61), ('inventions', 4.61)] \n",
      "\n",
      "tfidf_2.txt: \n",
      " [('Module', 16.12), ('lunar', 13.82), ('Armstrong', 13.82), ('Apollo', 11.51), ('Moon', 9.21)] \n",
      "\n",
      "tfidf_1.txt: \n",
      " [('Soviet', 20.72), ('Union', 18.42), ('Axis', 16.12), ('Japan', 11.27), ('Germany', 11.27)] \n",
      "\n",
      "tfidf_3.txt: \n",
      " [('Napoleon', 32.19), ('French', 15.38), ('Coalition', 11.51), ('Prussia', 6.91), ('military', 5.49)] \n",
      "\n"
     ]
    }
   ],
   "source": [
    "for file_name in dataset:\n",
    "    print(\"{0}: \\n {1} \\n\".format(file_name, tfidf(dataset,file_name,5)))"
   ]
  },
  {
   "cell_type": "code",
   "execution_count": null,
   "metadata": {
    "collapsed": true
   },
   "outputs": [],
   "source": []
  }
 ],
 "metadata": {
  "kernelspec": {
   "display_name": "Python 2",
   "language": "python",
   "name": "python2"
  },
  "language_info": {
   "codemirror_mode": {
    "name": "ipython",
    "version": 2
   },
   "file_extension": ".py",
   "mimetype": "text/x-python",
   "name": "python",
   "nbconvert_exporter": "python",
   "pygments_lexer": "ipython2",
   "version": "2.7.13"
  }
 },
 "nbformat": 4,
 "nbformat_minor": 2
}
