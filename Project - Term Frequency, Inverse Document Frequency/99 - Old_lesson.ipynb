{
 "cells": [
  {
   "cell_type": "code",
   "execution_count": 1,
   "metadata": {
    "collapsed": true
   },
   "outputs": [],
   "source": [
    "from sklearn.feature_extraction.text import TfidfVectorizer\n",
    "import pandas as pd\n",
    "import numpy as np"
   ]
  },
  {
   "cell_type": "code",
   "execution_count": 2,
   "metadata": {
    "collapsed": true
   },
   "outputs": [],
   "source": [
    "phrases = [\"I am going to have a pizza delivered for dinner.\",\n",
    "           \"I am going to try that new French restaurant for dinner.\",\n",
    "           \"I prefer reading over going to the movies.\",\n",
    "           \"I prefer going to the movies over reading books.\",\n",
    "           \"I have friends in New York City.\",\n",
    "           \"She loves going to the movies.\"]"
   ]
  },
  {
   "cell_type": "code",
   "execution_count": 4,
   "metadata": {
    "collapsed": true
   },
   "outputs": [],
   "source": [
    "vect = TfidfVectorizer(min_df=1)\n",
    "tfidf = vect.fit_transform(phrases)"
   ]
  },
  {
   "cell_type": "code",
   "execution_count": 5,
   "metadata": {},
   "outputs": [
    {
     "name": "stdout",
     "output_type": "stream",
     "text": [
      "[[ 1.          0.414471    0.12286451  0.10835914  0.12736866  0.1231687 ]\n",
      " [ 0.414471    1.          0.10445553  0.09212351  0.10828481  0.10471413]\n",
      " [ 0.12286451  0.10445553  1.          0.88194008  0.          0.42482132]\n",
      " [ 0.10835914  0.09212351  0.88194008  1.          0.          0.37466695]\n",
      " [ 0.12736866  0.10828481  0.          0.          1.          0.        ]\n",
      " [ 0.1231687   0.10471413  0.42482132  0.37466695  0.          1.        ]]\n"
     ]
    }
   ],
   "source": [
    "cosine=(tfidf * tfidf.T).A\n",
    "print cosine"
   ]
  },
  {
   "cell_type": "code",
   "execution_count": 6,
   "metadata": {},
   "outputs": [
    {
     "data": {
      "text/html": [
       "<div>\n",
       "<style>\n",
       "    .dataframe thead tr:only-child th {\n",
       "        text-align: right;\n",
       "    }\n",
       "\n",
       "    .dataframe thead th {\n",
       "        text-align: left;\n",
       "    }\n",
       "\n",
       "    .dataframe tbody tr th {\n",
       "        vertical-align: top;\n",
       "    }\n",
       "</style>\n",
       "<table border=\"1\" class=\"dataframe\">\n",
       "  <thead>\n",
       "    <tr style=\"text-align: right;\">\n",
       "      <th></th>\n",
       "      <th>I am going to have a pizza delivered for dinner.</th>\n",
       "      <th>I am going to try that new French restaurant for dinner.</th>\n",
       "      <th>I prefer reading over going to the movies.</th>\n",
       "      <th>I prefer going to the movies over reading books.</th>\n",
       "      <th>I have friends in New York City.</th>\n",
       "      <th>She loves going to the movies.</th>\n",
       "    </tr>\n",
       "  </thead>\n",
       "  <tbody>\n",
       "    <tr>\n",
       "      <th>I am going to have a pizza delivered for dinner.</th>\n",
       "      <td>1.000000</td>\n",
       "      <td>0.414471</td>\n",
       "      <td>0.122865</td>\n",
       "      <td>0.108359</td>\n",
       "      <td>0.127369</td>\n",
       "      <td>0.123169</td>\n",
       "    </tr>\n",
       "    <tr>\n",
       "      <th>I am going to try that new French restaurant for dinner.</th>\n",
       "      <td>0.414471</td>\n",
       "      <td>1.000000</td>\n",
       "      <td>0.104456</td>\n",
       "      <td>0.092124</td>\n",
       "      <td>0.108285</td>\n",
       "      <td>0.104714</td>\n",
       "    </tr>\n",
       "    <tr>\n",
       "      <th>I prefer reading over going to the movies.</th>\n",
       "      <td>0.122865</td>\n",
       "      <td>0.104456</td>\n",
       "      <td>1.000000</td>\n",
       "      <td>0.881940</td>\n",
       "      <td>0.000000</td>\n",
       "      <td>0.424821</td>\n",
       "    </tr>\n",
       "    <tr>\n",
       "      <th>I prefer going to the movies over reading books.</th>\n",
       "      <td>0.108359</td>\n",
       "      <td>0.092124</td>\n",
       "      <td>0.881940</td>\n",
       "      <td>1.000000</td>\n",
       "      <td>0.000000</td>\n",
       "      <td>0.374667</td>\n",
       "    </tr>\n",
       "    <tr>\n",
       "      <th>I have friends in New York City.</th>\n",
       "      <td>0.127369</td>\n",
       "      <td>0.108285</td>\n",
       "      <td>0.000000</td>\n",
       "      <td>0.000000</td>\n",
       "      <td>1.000000</td>\n",
       "      <td>0.000000</td>\n",
       "    </tr>\n",
       "    <tr>\n",
       "      <th>She loves going to the movies.</th>\n",
       "      <td>0.123169</td>\n",
       "      <td>0.104714</td>\n",
       "      <td>0.424821</td>\n",
       "      <td>0.374667</td>\n",
       "      <td>0.000000</td>\n",
       "      <td>1.000000</td>\n",
       "    </tr>\n",
       "  </tbody>\n",
       "</table>\n",
       "</div>"
      ],
      "text/plain": [
       "                                                    I am going to have a pizza delivered for dinner.  \\\n",
       "I am going to have a pizza delivered for dinner.                                            1.000000   \n",
       "I am going to try that new French restaurant fo...                                          0.414471   \n",
       "I prefer reading over going to the movies.                                                  0.122865   \n",
       "I prefer going to the movies over reading books.                                            0.108359   \n",
       "I have friends in New York City.                                                            0.127369   \n",
       "She loves going to the movies.                                                              0.123169   \n",
       "\n",
       "                                                    I am going to try that new French restaurant for dinner.  \\\n",
       "I am going to have a pizza delivered for dinner.                                             0.414471          \n",
       "I am going to try that new French restaurant fo...                                           1.000000          \n",
       "I prefer reading over going to the movies.                                                   0.104456          \n",
       "I prefer going to the movies over reading books.                                             0.092124          \n",
       "I have friends in New York City.                                                             0.108285          \n",
       "She loves going to the movies.                                                               0.104714          \n",
       "\n",
       "                                                    I prefer reading over going to the movies.  \\\n",
       "I am going to have a pizza delivered for dinner.                                      0.122865   \n",
       "I am going to try that new French restaurant fo...                                    0.104456   \n",
       "I prefer reading over going to the movies.                                            1.000000   \n",
       "I prefer going to the movies over reading books.                                      0.881940   \n",
       "I have friends in New York City.                                                      0.000000   \n",
       "She loves going to the movies.                                                        0.424821   \n",
       "\n",
       "                                                    I prefer going to the movies over reading books.  \\\n",
       "I am going to have a pizza delivered for dinner.                                            0.108359   \n",
       "I am going to try that new French restaurant fo...                                          0.092124   \n",
       "I prefer reading over going to the movies.                                                  0.881940   \n",
       "I prefer going to the movies over reading books.                                            1.000000   \n",
       "I have friends in New York City.                                                            0.000000   \n",
       "She loves going to the movies.                                                              0.374667   \n",
       "\n",
       "                                                    I have friends in New York City.  \\\n",
       "I am going to have a pizza delivered for dinner.                            0.127369   \n",
       "I am going to try that new French restaurant fo...                          0.108285   \n",
       "I prefer reading over going to the movies.                                  0.000000   \n",
       "I prefer going to the movies over reading books.                            0.000000   \n",
       "I have friends in New York City.                                            1.000000   \n",
       "She loves going to the movies.                                              0.000000   \n",
       "\n",
       "                                                    She loves going to the movies.  \n",
       "I am going to have a pizza delivered for dinner.                          0.123169  \n",
       "I am going to try that new French restaurant fo...                        0.104714  \n",
       "I prefer reading over going to the movies.                                0.424821  \n",
       "I prefer going to the movies over reading books.                          0.374667  \n",
       "I have friends in New York City.                                          0.000000  \n",
       "She loves going to the movies.                                            1.000000  "
      ]
     },
     "execution_count": 6,
     "metadata": {},
     "output_type": "execute_result"
    }
   ],
   "source": [
    "df = pd.DataFrame(cosine, index=phrases, columns=phrases)\n",
    "df"
   ]
  },
  {
   "cell_type": "code",
   "execution_count": 7,
   "metadata": {
    "collapsed": true
   },
   "outputs": [],
   "source": [
    "import matplotlib\n",
    "%matplotlib inline\n",
    "import seaborn as sns"
   ]
  },
  {
   "cell_type": "code",
   "execution_count": 8,
   "metadata": {},
   "outputs": [
    {
     "data": {
      "text/plain": [
       "<matplotlib.axes._subplots.AxesSubplot at 0xcdc75c0>"
      ]
     },
     "execution_count": 8,
     "metadata": {},
     "output_type": "execute_result"
    },
    {
     "data": {
      "image/png": "[encoded data removed]",
      "text/plain": [
       "<matplotlib.figure.Figure at 0xce86fd0>"
      ]
     },
     "metadata": {},
     "output_type": "display_data"
    }
   ],
   "source": [
    "sns.heatmap(df, annot=True)"
   ]
  },
  {
   "cell_type": "code",
   "execution_count": 9,
   "metadata": {
    "collapsed": true
   },
   "outputs": [],
   "source": [
    "from sklearn.decomposition import NMF"
   ]
  },
  {
   "cell_type": "code",
   "execution_count": 12,
   "metadata": {},
   "outputs": [],
   "source": [
    "d1 = open(\"tfidf-1.txt\").read()\n",
    "d2 = open(\"tfidf-2.txt\").read()\n",
    "d3 = open(\"tfidf-3.txt\").read()\n",
    "d4 = open(\"tfidf-4.txt\").read()\n",
    "d5 = open(\"tfidf-5.txt\").read()\n",
    "d6 = open(\"tfidf-6.txt\").read()\n",
    "d7 = open(\"tfidf-7.txt\").read()\n",
    "d8 = open(\"tfidf-8.txt\").read()\n",
    "d9 = open(\"tfidf-9.txt\").read()\n",
    "d10 = open(\"tfidf-10.txt\").read()"
   ]
  },
  {
   "cell_type": "code",
   "execution_count": 13,
   "metadata": {
    "collapsed": true
   },
   "outputs": [],
   "source": [
    "dataset = [d1,d2,d3,d4,d5,d6,d7,d8,d9,d10]"
   ]
  },
  {
   "cell_type": "code",
   "execution_count": 14,
   "metadata": {
    "collapsed": true
   },
   "outputs": [],
   "source": [
    "n_features = 100\n",
    "n_topics = 10\n",
    "n_top_words = 10"
   ]
  },
  {
   "cell_type": "code",
   "execution_count": 15,
   "metadata": {
    "collapsed": true
   },
   "outputs": [],
   "source": [
    "vectorizer = TfidfVectorizer(min_df=1, max_features=n_features, stop_words='english')"
   ]
  },
  {
   "cell_type": "code",
   "execution_count": 16,
   "metadata": {
    "collapsed": true
   },
   "outputs": [],
   "source": [
    "tfidf = vectorizer.fit_transform(dataset)"
   ]
  },
  {
   "cell_type": "code",
   "execution_count": 17,
   "metadata": {
    "collapsed": true
   },
   "outputs": [],
   "source": [
    "nmf = NMF(n_components=n_topics, random_state=1).fit(tfidf)"
   ]
  },
  {
   "cell_type": "code",
   "execution_count": 18,
   "metadata": {
    "collapsed": true
   },
   "outputs": [],
   "source": [
    "feature_names = vectorizer.get_feature_names()"
   ]
  },
  {
   "cell_type": "code",
   "execution_count": 19,
   "metadata": {},
   "outputs": [
    {
     "name": "stdout",
     "output_type": "stream",
     "text": [
      "Topic #0:\n",
      "revolution french revolutionary napoleon political leading global popular modern republic\n",
      "\n",
      "\n",
      "Topic #1:\n",
      "tesla electrical wireless work york popular new power american series\n",
      "\n",
      "\n",
      "Topic #2:\n",
      "newton work earth time day later european president church government\n",
      "\n",
      "\n",
      "Topic #3:\n",
      "leonardo man time later widely world life history april france\n",
      "\n",
      "\n",
      "Topic #4:\n",
      "lunar module armstrong apollo earth landed command july 11 man\n",
      "\n",
      "\n",
      "Topic #5:\n",
      "rockefeller oil church life american modern man national supported central\n",
      "\n",
      "\n",
      "Topic #6:\n",
      "war soviet union axis germany japan allies united invasion 1945\n",
      "\n",
      "\n",
      "Topic #7:\n",
      "titanic ship passengers safety people april new wireless world led\n",
      "\n",
      "\n",
      "Topic #8:\n",
      "washington american president british continental national army states united war\n",
      "\n",
      "\n",
      "Topic #9:\n",
      "napoleon french coalition europe france battle empire military allies army\n",
      "\n",
      "\n"
     ]
    }
   ],
   "source": [
    "for topic_idx, topic in enumerate(nmf.components_):\n",
    "    print(\"Topic #%d:\" % topic_idx)\n",
    "    print(\" \".join([feature_names[i]\n",
    "                    for i in topic.argsort()[:-n_top_words - 1:-1]]))\n",
    "    print(\"\\n\")"
   ]
  },
  {
   "cell_type": "code",
   "execution_count": null,
   "metadata": {
    "collapsed": true
   },
   "outputs": [],
   "source": []
  }
 ],
 "metadata": {
  "kernelspec": {
   "display_name": "Python 2",
   "language": "python",
   "name": "python2"
  },
  "language_info": {
   "codemirror_mode": {
    "name": "ipython",
    "version": 2
   },
   "file_extension": ".py",
   "mimetype": "text/x-python",
   "name": "python",
   "nbconvert_exporter": "python",
   "pygments_lexer": "ipython2",
   "version": "2.7.13"
  }
 },
 "nbformat": 4,
 "nbformat_minor": 2
}
