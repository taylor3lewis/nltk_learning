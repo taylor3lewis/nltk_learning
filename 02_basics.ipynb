{
 "cells": [
  {
   "cell_type": "code",
   "execution_count": 1,
   "metadata": {
    "collapsed": true
   },
   "outputs": [],
   "source": [
    "import nltk"
   ]
  },
  {
   "cell_type": "code",
   "execution_count": 3,
   "metadata": {},
   "outputs": [],
   "source": [
    "from nltk.corpus import inaugural"
   ]
  },
  {
   "cell_type": "code",
   "execution_count": 4,
   "metadata": {},
   "outputs": [
    {
     "data": {
      "text/plain": [
       "[u'1789-Washington.txt',\n",
       " u'1793-Washington.txt',\n",
       " u'1797-Adams.txt',\n",
       " u'1801-Jefferson.txt',\n",
       " u'1805-Jefferson.txt',\n",
       " u'1809-Madison.txt',\n",
       " u'1813-Madison.txt',\n",
       " u'1817-Monroe.txt',\n",
       " u'1821-Monroe.txt',\n",
       " u'1825-Adams.txt',\n",
       " u'1829-Jackson.txt',\n",
       " u'1833-Jackson.txt',\n",
       " u'1837-VanBuren.txt',\n",
       " u'1841-Harrison.txt',\n",
       " u'1845-Polk.txt',\n",
       " u'1849-Taylor.txt',\n",
       " u'1853-Pierce.txt',\n",
       " u'1857-Buchanan.txt',\n",
       " u'1861-Lincoln.txt',\n",
       " u'1865-Lincoln.txt',\n",
       " u'1869-Grant.txt',\n",
       " u'1873-Grant.txt',\n",
       " u'1877-Hayes.txt',\n",
       " u'1881-Garfield.txt',\n",
       " u'1885-Cleveland.txt',\n",
       " u'1889-Harrison.txt',\n",
       " u'1893-Cleveland.txt',\n",
       " u'1897-McKinley.txt',\n",
       " u'1901-McKinley.txt',\n",
       " u'1905-Roosevelt.txt',\n",
       " u'1909-Taft.txt',\n",
       " u'1913-Wilson.txt',\n",
       " u'1917-Wilson.txt',\n",
       " u'1921-Harding.txt',\n",
       " u'1925-Coolidge.txt',\n",
       " u'1929-Hoover.txt',\n",
       " u'1933-Roosevelt.txt',\n",
       " u'1937-Roosevelt.txt',\n",
       " u'1941-Roosevelt.txt',\n",
       " u'1945-Roosevelt.txt',\n",
       " u'1949-Truman.txt',\n",
       " u'1953-Eisenhower.txt',\n",
       " u'1957-Eisenhower.txt',\n",
       " u'1961-Kennedy.txt',\n",
       " u'1965-Johnson.txt',\n",
       " u'1969-Nixon.txt',\n",
       " u'1973-Nixon.txt',\n",
       " u'1977-Carter.txt',\n",
       " u'1981-Reagan.txt',\n",
       " u'1985-Reagan.txt',\n",
       " u'1989-Bush.txt',\n",
       " u'1993-Clinton.txt',\n",
       " u'1997-Clinton.txt',\n",
       " u'2001-Bush.txt',\n",
       " u'2005-Bush.txt',\n",
       " u'2009-Obama.txt']"
      ]
     },
     "execution_count": 4,
     "metadata": {},
     "output_type": "execute_result"
    }
   ],
   "source": [
    "inaugural.fileids()"
   ]
  },
  {
   "cell_type": "code",
   "execution_count": 7,
   "metadata": {},
   "outputs": [
    {
     "name": "stdout",
     "output_type": "stream",
     "text": [
      "1538 1789-Washington.txt\n",
      "147 1793-Washington.txt\n",
      "2585 1797-Adams.txt\n",
      "1935 1801-Jefferson.txt\n",
      "2384 1805-Jefferson.txt\n",
      "1265 1809-Madison.txt\n",
      "1304 1813-Madison.txt\n",
      "3693 1817-Monroe.txt\n",
      "4909 1821-Monroe.txt\n",
      "3150 1825-Adams.txt\n",
      "1208 1829-Jackson.txt\n",
      "1267 1833-Jackson.txt\n",
      "4171 1837-VanBuren.txt\n",
      "9165 1841-Harrison.txt\n",
      "5196 1845-Polk.txt\n",
      "1182 1849-Taylor.txt\n",
      "3657 1853-Pierce.txt\n",
      "3098 1857-Buchanan.txt\n",
      "4005 1861-Lincoln.txt\n",
      "785 1865-Lincoln.txt\n",
      "1239 1869-Grant.txt\n",
      "1478 1873-Grant.txt\n",
      "2724 1877-Hayes.txt\n",
      "3239 1881-Garfield.txt\n",
      "1828 1885-Cleveland.txt\n",
      "4750 1889-Harrison.txt\n",
      "2153 1893-Cleveland.txt\n",
      "4371 1897-McKinley.txt\n",
      "2450 1901-McKinley.txt\n",
      "1091 1905-Roosevelt.txt\n",
      "5846 1909-Taft.txt\n",
      "1905 1913-Wilson.txt\n",
      "1656 1917-Wilson.txt\n",
      "3756 1921-Harding.txt\n",
      "4442 1925-Coolidge.txt\n",
      "3890 1929-Hoover.txt\n",
      "2063 1933-Roosevelt.txt\n",
      "2019 1937-Roosevelt.txt\n",
      "1536 1941-Roosevelt.txt\n",
      "637 1945-Roosevelt.txt\n",
      "2528 1949-Truman.txt\n",
      "2775 1953-Eisenhower.txt\n",
      "1917 1957-Eisenhower.txt\n",
      "1546 1961-Kennedy.txt\n",
      "1715 1965-Johnson.txt\n",
      "2425 1969-Nixon.txt\n",
      "2028 1973-Nixon.txt\n",
      "1380 1977-Carter.txt\n",
      "2801 1981-Reagan.txt\n",
      "2946 1985-Reagan.txt\n",
      "2713 1989-Bush.txt\n",
      "1855 1993-Clinton.txt\n",
      "2462 1997-Clinton.txt\n",
      "1825 2001-Bush.txt\n",
      "2376 2005-Bush.txt\n",
      "2726 2009-Obama.txt\n"
     ]
    }
   ],
   "source": [
    "for file_ in inaugural.fileids():\n",
    "    text = nltk.corpus.inaugural.words(file_)\n",
    "    print len(text), file_"
   ]
  },
  {
   "cell_type": "code",
   "execution_count": 9,
   "metadata": {},
   "outputs": [],
   "source": [
    "speech_len = [(len(inaugural.words(speech)), speech) for speech in inaugural.fileids()]"
   ]
  },
  {
   "cell_type": "code",
   "execution_count": 10,
   "metadata": {},
   "outputs": [
    {
     "data": {
      "text/plain": [
       "(9165, u'1841-Harrison.txt')"
      ]
     },
     "execution_count": 10,
     "metadata": {},
     "output_type": "execute_result"
    }
   ],
   "source": [
    "max(speech_len)"
   ]
  },
  {
   "cell_type": "code",
   "execution_count": 11,
   "metadata": {},
   "outputs": [
    {
     "data": {
      "text/plain": [
       "(147, u'1793-Washington.txt')"
      ]
     },
     "execution_count": 11,
     "metadata": {},
     "output_type": "execute_result"
    }
   ],
   "source": [
    "min(speech_len)"
   ]
  },
  {
   "cell_type": "code",
   "execution_count": 16,
   "metadata": {},
   "outputs": [
    {
     "data": {
      "text/plain": [
       "[(2.449044585987261, u'1789-Washington.txt'),\n",
       " (1.53125, u'1793-Washington.txt'),\n",
       " (3.1219806763285023, u'1797-Adams.txt'),\n",
       " (2.698744769874477, u'1801-Jefferson.txt'),\n",
       " (2.957816377171216, u'1805-Jefferson.txt'),\n",
       " (2.355679702048417, u'1809-Madison.txt'),\n",
       " (2.4059040590405902, u'1813-Madison.txt'),\n",
       " (3.547550432276657, u'1817-Monroe.txt'),\n",
       " (3.8806324110671935, u'1821-Monroe.txt'),\n",
       " (3.128103277060576, u'1825-Adams.txt'),\n",
       " (2.3365570599613155, u'1829-Jackson.txt'),\n",
       " (2.5239043824701195, u'1833-Jackson.txt'),\n",
       " (3.1646433990895297, u'1837-VanBuren.txt'),\n",
       " (4.8415213946117275, u'1841-Harrison.txt'),\n",
       " (3.8979744936234058, u'1845-Polk.txt'),\n",
       " (2.3687374749498997, u'1849-Taylor.txt'),\n",
       " (3.1309931506849313, u'1853-Pierce.txt'),\n",
       " (3.2679324894514767, u'1857-Buchanan.txt'),\n",
       " (3.715213358070501, u'1861-Lincoln.txt'),\n",
       " (2.162534435261708, u'1865-Lincoln.txt'),\n",
       " (2.5337423312883436, u'1869-Grant.txt'),\n",
       " (2.6726943942133814, u'1873-Grant.txt'),\n",
       " (3.2740384615384617, u'1877-Hayes.txt'),\n",
       " (3.1692759295499022, u'1881-Garfield.txt'),\n",
       " (2.7041420118343193, u'1885-Cleveland.txt'),\n",
       " (3.4977908689248896, u'1889-Harrison.txt'),\n",
       " (2.625609756097561, u'1893-Cleveland.txt'),\n",
       " (3.5278450363196128, u'1897-McKinley.txt'),\n",
       " (2.8488372093023258, u'1901-McKinley.txt'),\n",
       " (2.6938271604938273, u'1905-Roosevelt.txt'),\n",
       " (4.062543432939542, u'1909-Taft.txt'),\n",
       " (2.881996974281392, u'1913-Wilson.txt'),\n",
       " (3.0163934426229506, u'1917-Wilson.txt'),\n",
       " (3.2102564102564104, u'1921-Harding.txt'),\n",
       " (3.638001638001638, u'1925-Coolidge.txt'),\n",
       " (3.578656853725851, u'1929-Hoover.txt'),\n",
       " (2.765415549597855, u'1933-Roosevelt.txt'),\n",
       " (2.7581967213114753, u'1937-Roosevelt.txt'),\n",
       " (2.9146110056925996, u'1941-Roosevelt.txt'),\n",
       " (2.275, u'1945-Roosevelt.txt'),\n",
       " (3.236875800256082, u'1949-Truman.txt'),\n",
       " (3.0867630700778643, u'1953-Eisenhower.txt'),\n",
       " (3.081993569131833, u'1957-Eisenhower.txt'),\n",
       " (2.712280701754386, u'1961-Kennedy.txt'),\n",
       " (3.003502626970228, u'1965-Johnson.txt'),\n",
       " (3.2637954239569313, u'1969-Nixon.txt'),\n",
       " (3.7211009174311926, u'1973-Nixon.txt'),\n",
       " (2.608695652173913, u'1977-Carter.txt'),\n",
       " (3.0882028665931642, u'1981-Reagan.txt'),\n",
       " (3.188311688311688, u'1985-Reagan.txt'),\n",
       " (3.421185372005044, u'1989-Bush.txt'),\n",
       " (2.8849144634525663, u'1993-Clinton.txt'),\n",
       " (3.1808785529715764, u'1997-Clinton.txt'),\n",
       " (2.9340836012861735, u'2001-Bush.txt'),\n",
       " (3.0344827586206895, u'2005-Bush.txt'),\n",
       " (2.906183368869936, u'2009-Obama.txt')]"
      ]
     },
     "execution_count": 16,
     "metadata": {},
     "output_type": "execute_result"
    }
   ],
   "source": [
    "[(float(len(inaugural.words(sp)))/float(len(set(inaugural.words(sp)))), sp) for sp in inaugural.fileids()]"
   ]
  },
  {
   "cell_type": "code",
   "execution_count": 18,
   "metadata": {},
   "outputs": [
    {
     "data": {
      "text/plain": [
       "[(64.08333333333333, u'1789-Washington.txt'),\n",
       " (36.75, u'1793-Washington.txt'),\n",
       " (69.86486486486487, u'1797-Adams.txt'),\n",
       " (46.07142857142857, u'1801-Jefferson.txt'),\n",
       " (52.977777777777774, u'1805-Jefferson.txt'),\n",
       " (60.23809523809524, u'1809-Madison.txt'),\n",
       " (39.515151515151516, u'1813-Madison.txt'),\n",
       " (30.270491803278688, u'1817-Monroe.txt'),\n",
       " (38.054263565891475, u'1821-Monroe.txt'),\n",
       " (42.567567567567565, u'1825-Adams.txt'),\n",
       " (48.32, u'1829-Jackson.txt'),\n",
       " (42.233333333333334, u'1833-Jackson.txt'),\n",
       " (43.90526315789474, u'1837-VanBuren.txt'),\n",
       " (43.642857142857146, u'1841-Harrison.txt'),\n",
       " (33.96078431372549, u'1845-Polk.txt'),\n",
       " (53.72727272727273, u'1849-Taylor.txt'),\n",
       " (35.16346153846154, u'1853-Pierce.txt'),\n",
       " (34.80898876404494, u'1857-Buchanan.txt'),\n",
       " (29.02173913043478, u'1861-Lincoln.txt'),\n",
       " (29.074074074074073, u'1865-Lincoln.txt'),\n",
       " (30.21951219512195, u'1869-Grant.txt'),\n",
       " (33.59090909090909, u'1873-Grant.txt'),\n",
       " (46.16949152542373, u'1877-Hayes.txt'),\n",
       " (28.919642857142858, u'1881-Garfield.txt'),\n",
       " (41.54545454545455, u'1885-Cleveland.txt'),\n",
       " (30.254777070063696, u'1889-Harrison.txt'),\n",
       " (37.12068965517241, u'1893-Cleveland.txt'),\n",
       " (33.62307692307692, u'1897-McKinley.txt'),\n",
       " (24.5, u'1901-McKinley.txt'),\n",
       " (33.06060606060606, u'1905-Roosevelt.txt'),\n",
       " (36.76729559748428, u'1909-Taft.txt'),\n",
       " (28.014705882352942, u'1913-Wilson.txt'),\n",
       " (27.6, u'1917-Wilson.txt'),\n",
       " (25.20805369127517, u'1921-Harding.txt'),\n",
       " (22.548223350253807, u'1925-Coolidge.txt'),\n",
       " (24.620253164556964, u'1929-Hoover.txt'),\n",
       " (24.270588235294117, u'1933-Roosevelt.txt'),\n",
       " (21.03125, u'1937-Roosevelt.txt'),\n",
       " (22.58823529411765, u'1941-Roosevelt.txt'),\n",
       " (24.5, u'1945-Roosevelt.txt'),\n",
       " (21.79310344827586, u'1949-Truman.txt'),\n",
       " (22.5609756097561, u'1953-Eisenhower.txt'),\n",
       " (20.83695652173913, u'1957-Eisenhower.txt'),\n",
       " (29.73076923076923, u'1961-Kennedy.txt'),\n",
       " (18.24468085106383, u'1965-Johnson.txt'),\n",
       " (22.87735849056604, u'1969-Nixon.txt'),\n",
       " (29.391304347826086, u'1973-Nixon.txt'),\n",
       " (26.037735849056602, u'1977-Carter.txt'),\n",
       " (22.055118110236222, u'1981-Reagan.txt'),\n",
       " (23.38095238095238, u'1985-Reagan.txt'),\n",
       " (18.71034482758621, u'1989-Bush.txt'),\n",
       " (22.901234567901234, u'1993-Clinton.txt'),\n",
       " (21.982142857142858, u'1997-Clinton.txt'),\n",
       " (18.814432989690722, u'2001-Bush.txt'),\n",
       " (25.010526315789473, u'2005-Bush.txt'),\n",
       " (24.339285714285715, u'2009-Obama.txt')]"
      ]
     },
     "execution_count": 18,
     "metadata": {},
     "output_type": "execute_result"
    }
   ],
   "source": [
    "[(float(len(inaugural.words(sp)))/float(len(inaugural.sents(sp))), sp) for sp in inaugural.fileids()]"
   ]
  },
  {
   "cell_type": "code",
   "execution_count": 19,
   "metadata": {
    "collapsed": true
   },
   "outputs": [],
   "source": [
    "import pandas"
   ]
  },
  {
   "cell_type": "code",
   "execution_count": 22,
   "metadata": {},
   "outputs": [],
   "source": [
    "data = pandas.DataFrame(\n",
    "    [int(speech[:4]), len(inaugural.words(speech))/len(inaugural.sents(speech))] for speech in inaugural.fileids()\n",
    ")"
   ]
  },
  {
   "cell_type": "code",
   "execution_count": 23,
   "metadata": {},
   "outputs": [
    {
     "data": {
      "text/html": [
       "<div>\n",
       "<style>\n",
       "    .dataframe thead tr:only-child th {\n",
       "        text-align: right;\n",
       "    }\n",
       "\n",
       "    .dataframe thead th {\n",
       "        text-align: left;\n",
       "    }\n",
       "\n",
       "    .dataframe tbody tr th {\n",
       "        vertical-align: top;\n",
       "    }\n",
       "</style>\n",
       "<table border=\"1\" class=\"dataframe\">\n",
       "  <thead>\n",
       "    <tr style=\"text-align: right;\">\n",
       "      <th></th>\n",
       "      <th>0</th>\n",
       "      <th>1</th>\n",
       "    </tr>\n",
       "  </thead>\n",
       "  <tbody>\n",
       "    <tr>\n",
       "      <th>0</th>\n",
       "      <td>1789</td>\n",
       "      <td>64</td>\n",
       "    </tr>\n",
       "    <tr>\n",
       "      <th>1</th>\n",
       "      <td>1793</td>\n",
       "      <td>36</td>\n",
       "    </tr>\n",
       "    <tr>\n",
       "      <th>2</th>\n",
       "      <td>1797</td>\n",
       "      <td>69</td>\n",
       "    </tr>\n",
       "    <tr>\n",
       "      <th>3</th>\n",
       "      <td>1801</td>\n",
       "      <td>46</td>\n",
       "    </tr>\n",
       "    <tr>\n",
       "      <th>4</th>\n",
       "      <td>1805</td>\n",
       "      <td>52</td>\n",
       "    </tr>\n",
       "    <tr>\n",
       "      <th>5</th>\n",
       "      <td>1809</td>\n",
       "      <td>60</td>\n",
       "    </tr>\n",
       "    <tr>\n",
       "      <th>6</th>\n",
       "      <td>1813</td>\n",
       "      <td>39</td>\n",
       "    </tr>\n",
       "    <tr>\n",
       "      <th>7</th>\n",
       "      <td>1817</td>\n",
       "      <td>30</td>\n",
       "    </tr>\n",
       "    <tr>\n",
       "      <th>8</th>\n",
       "      <td>1821</td>\n",
       "      <td>38</td>\n",
       "    </tr>\n",
       "    <tr>\n",
       "      <th>9</th>\n",
       "      <td>1825</td>\n",
       "      <td>42</td>\n",
       "    </tr>\n",
       "  </tbody>\n",
       "</table>\n",
       "</div>"
      ],
      "text/plain": [
       "      0   1\n",
       "0  1789  64\n",
       "1  1793  36\n",
       "2  1797  69\n",
       "3  1801  46\n",
       "4  1805  52\n",
       "5  1809  60\n",
       "6  1813  39\n",
       "7  1817  30\n",
       "8  1821  38\n",
       "9  1825  42"
      ]
     },
     "execution_count": 23,
     "metadata": {},
     "output_type": "execute_result"
    }
   ],
   "source": [
    "data.head(10)"
   ]
  },
  {
   "cell_type": "code",
   "execution_count": 24,
   "metadata": {
    "collapsed": true
   },
   "outputs": [],
   "source": [
    "data.columns = [\"Years\", \"Average WPS\"]"
   ]
  },
  {
   "cell_type": "code",
   "execution_count": 25,
   "metadata": {},
   "outputs": [
    {
     "data": {
      "text/html": [
       "<div>\n",
       "<style>\n",
       "    .dataframe thead tr:only-child th {\n",
       "        text-align: right;\n",
       "    }\n",
       "\n",
       "    .dataframe thead th {\n",
       "        text-align: left;\n",
       "    }\n",
       "\n",
       "    .dataframe tbody tr th {\n",
       "        vertical-align: top;\n",
       "    }\n",
       "</style>\n",
       "<table border=\"1\" class=\"dataframe\">\n",
       "  <thead>\n",
       "    <tr style=\"text-align: right;\">\n",
       "      <th></th>\n",
       "      <th>Years</th>\n",
       "      <th>Average WPS</th>\n",
       "    </tr>\n",
       "  </thead>\n",
       "  <tbody>\n",
       "    <tr>\n",
       "      <th>0</th>\n",
       "      <td>1789</td>\n",
       "      <td>64</td>\n",
       "    </tr>\n",
       "    <tr>\n",
       "      <th>1</th>\n",
       "      <td>1793</td>\n",
       "      <td>36</td>\n",
       "    </tr>\n",
       "    <tr>\n",
       "      <th>2</th>\n",
       "      <td>1797</td>\n",
       "      <td>69</td>\n",
       "    </tr>\n",
       "    <tr>\n",
       "      <th>3</th>\n",
       "      <td>1801</td>\n",
       "      <td>46</td>\n",
       "    </tr>\n",
       "    <tr>\n",
       "      <th>4</th>\n",
       "      <td>1805</td>\n",
       "      <td>52</td>\n",
       "    </tr>\n",
       "    <tr>\n",
       "      <th>5</th>\n",
       "      <td>1809</td>\n",
       "      <td>60</td>\n",
       "    </tr>\n",
       "    <tr>\n",
       "      <th>6</th>\n",
       "      <td>1813</td>\n",
       "      <td>39</td>\n",
       "    </tr>\n",
       "    <tr>\n",
       "      <th>7</th>\n",
       "      <td>1817</td>\n",
       "      <td>30</td>\n",
       "    </tr>\n",
       "    <tr>\n",
       "      <th>8</th>\n",
       "      <td>1821</td>\n",
       "      <td>38</td>\n",
       "    </tr>\n",
       "    <tr>\n",
       "      <th>9</th>\n",
       "      <td>1825</td>\n",
       "      <td>42</td>\n",
       "    </tr>\n",
       "  </tbody>\n",
       "</table>\n",
       "</div>"
      ],
      "text/plain": [
       "   Years  Average WPS\n",
       "0   1789           64\n",
       "1   1793           36\n",
       "2   1797           69\n",
       "3   1801           46\n",
       "4   1805           52\n",
       "5   1809           60\n",
       "6   1813           39\n",
       "7   1817           30\n",
       "8   1821           38\n",
       "9   1825           42"
      ]
     },
     "execution_count": 25,
     "metadata": {},
     "output_type": "execute_result"
    }
   ],
   "source": [
    "data.head(10)"
   ]
  },
  {
   "cell_type": "code",
   "execution_count": 28,
   "metadata": {},
   "outputs": [
    {
     "data": {
      "text/plain": [
       "<matplotlib.axes._subplots.AxesSubplot at 0x7f2b1c904310>"
      ]
     },
     "execution_count": 28,
     "metadata": {},
     "output_type": "execute_result"
    },
    {
     "data": {
      "image/png": "[encoded data removed]",
      "text/plain": [
       "<matplotlib.figure.Figure at 0x7f2b1c86d8d0>"
      ]
     },
     "metadata": {},
     "output_type": "display_data"
    }
   ],
   "source": [
    "import matplotlib\n",
    "%matplotlib inline\n",
    "data.plot(\"Years\", figsize=(15,5))"
   ]
  },
  {
   "cell_type": "code",
   "execution_count": null,
   "metadata": {
    "collapsed": true
   },
   "outputs": [],
   "source": []
  }
 ],
 "metadata": {
  "kernelspec": {
   "display_name": "Python 2",
   "language": "python",
   "name": "python2"
  },
  "language_info": {
   "codemirror_mode": {
    "name": "ipython",
    "version": 2
   },
   "file_extension": ".py",
   "mimetype": "text/x-python",
   "name": "python",
   "nbconvert_exporter": "python",
   "pygments_lexer": "ipython2",
   "version": "2.7.13"
  }
 },
 "nbformat": 4,
 "nbformat_minor": 2
}
