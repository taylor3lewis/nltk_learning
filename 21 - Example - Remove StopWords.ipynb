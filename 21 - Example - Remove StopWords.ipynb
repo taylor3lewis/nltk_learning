{
 "cells": [
  {
   "cell_type": "code",
   "execution_count": 1,
   "metadata": {
    "collapsed": true
   },
   "outputs": [],
   "source": [
    "import nltk"
   ]
  },
  {
   "cell_type": "code",
   "execution_count": 2,
   "metadata": {
    "collapsed": true
   },
   "outputs": [],
   "source": [
    "alice = nltk.corpus.gutenberg.words(\"carroll-alice.txt\")"
   ]
  },
  {
   "cell_type": "code",
   "execution_count": 3,
   "metadata": {
    "collapsed": true
   },
   "outputs": [],
   "source": [
    "alice = [word.lower() for word in alice if word.isalpha()]"
   ]
  },
  {
   "cell_type": "code",
   "execution_count": 4,
   "metadata": {
    "collapsed": true
   },
   "outputs": [],
   "source": [
    "alice_fd = nltk.FreqDist(alice)"
   ]
  },
  {
   "cell_type": "code",
   "execution_count": 5,
   "metadata": {
    "collapsed": true
   },
   "outputs": [],
   "source": [
    "alice_100 = alice_fd.most_common(100)"
   ]
  },
  {
   "cell_type": "code",
   "execution_count": 6,
   "metadata": {
    "collapsed": true
   },
   "outputs": [],
   "source": [
    "common = [word[0] for word in alice_100]"
   ]
  },
  {
   "cell_type": "code",
   "execution_count": 7,
   "metadata": {},
   "outputs": [
    {
     "data": {
      "text/plain": [
       "[u'the',\n",
       " u'and',\n",
       " u'to',\n",
       " u'a',\n",
       " u'it',\n",
       " u'she',\n",
       " u'i',\n",
       " u'of',\n",
       " u'said',\n",
       " u'you',\n",
       " u'alice',\n",
       " u'in',\n",
       " u'was',\n",
       " u'that',\n",
       " u'as',\n",
       " u'her',\n",
       " u't',\n",
       " u'at',\n",
       " u's',\n",
       " u'on',\n",
       " u'all',\n",
       " u'with',\n",
       " u'had',\n",
       " u'but',\n",
       " u'for',\n",
       " u'they',\n",
       " u'so',\n",
       " u'be',\n",
       " u'not',\n",
       " u'very',\n",
       " u'what',\n",
       " u'this',\n",
       " u'little',\n",
       " u'he',\n",
       " u'out',\n",
       " u'is',\n",
       " u'one',\n",
       " u'down',\n",
       " u'up',\n",
       " u'there',\n",
       " u'if',\n",
       " u'his',\n",
       " u'then',\n",
       " u'about',\n",
       " u'no',\n",
       " u'them',\n",
       " u'know',\n",
       " u'were',\n",
       " u'like',\n",
       " u'would',\n",
       " u'went',\n",
       " u'again',\n",
       " u'herself',\n",
       " u'do',\n",
       " u'have',\n",
       " u'when',\n",
       " u'or',\n",
       " u'could',\n",
       " u'queen',\n",
       " u'thought',\n",
       " u'off',\n",
       " u'time',\n",
       " u'me',\n",
       " u'how',\n",
       " u'into',\n",
       " u'see',\n",
       " u'm',\n",
       " u'did',\n",
       " u'can',\n",
       " u'king',\n",
       " u'who',\n",
       " u'well',\n",
       " u'your',\n",
       " u'don',\n",
       " u'now',\n",
       " u'by',\n",
       " u'turtle',\n",
       " u'my',\n",
       " u'began',\n",
       " u'its',\n",
       " u'an',\n",
       " u'll',\n",
       " u'hatter',\n",
       " u'way',\n",
       " u'mock',\n",
       " u'gryphon',\n",
       " u'quite',\n",
       " u'are',\n",
       " u'think',\n",
       " u'just',\n",
       " u'their',\n",
       " u'here',\n",
       " u'much',\n",
       " u'first',\n",
       " u'say',\n",
       " u'some',\n",
       " u'rabbit',\n",
       " u'head',\n",
       " u'only',\n",
       " u'go']"
      ]
     },
     "execution_count": 7,
     "metadata": {},
     "output_type": "execute_result"
    }
   ],
   "source": [
    "common"
   ]
  },
  {
   "cell_type": "code",
   "execution_count": 9,
   "metadata": {},
   "outputs": [],
   "source": [
    "descriptive = set(common) - set(nltk.corpus.stopwords.words(\"english\"))"
   ]
  },
  {
   "cell_type": "code",
   "execution_count": 12,
   "metadata": {},
   "outputs": [
    {
     "data": {
      "text/plain": [
       "{u'alice',\n",
       " u'began',\n",
       " u'could',\n",
       " u'first',\n",
       " u'go',\n",
       " u'gryphon',\n",
       " u'hatter',\n",
       " u'head',\n",
       " u'king',\n",
       " u'know',\n",
       " u'like',\n",
       " u'little',\n",
       " u'mock',\n",
       " u'much',\n",
       " u'one',\n",
       " u'queen',\n",
       " u'quite',\n",
       " u'rabbit',\n",
       " u'said',\n",
       " u'say',\n",
       " u'see',\n",
       " u'think',\n",
       " u'thought',\n",
       " u'time',\n",
       " u'turtle',\n",
       " u'way',\n",
       " u'well',\n",
       " u'went',\n",
       " u'would'}"
      ]
     },
     "execution_count": 12,
     "metadata": {},
     "output_type": "execute_result"
    }
   ],
   "source": [
    "descriptive"
   ]
  },
  {
   "cell_type": "code",
   "execution_count": null,
   "metadata": {
    "collapsed": true
   },
   "outputs": [],
   "source": []
  }
 ],
 "metadata": {
  "kernelspec": {
   "display_name": "Python 2",
   "language": "python",
   "name": "python2"
  },
  "language_info": {
   "codemirror_mode": {
    "name": "ipython",
    "version": 2
   },
   "file_extension": ".py",
   "mimetype": "text/x-python",
   "name": "python",
   "nbconvert_exporter": "python",
   "pygments_lexer": "ipython2",
   "version": "2.7.13"
  }
 },
 "nbformat": 4,
 "nbformat_minor": 2
}
